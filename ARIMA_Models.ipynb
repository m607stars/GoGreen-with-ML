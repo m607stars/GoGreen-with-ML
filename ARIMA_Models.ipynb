{
  "nbformat": 4,
  "nbformat_minor": 0,
  "metadata": {
    "colab": {
      "name": "ARIMA Models.ipynb",
      "provenance": [],
      "collapsed_sections": [
        "P8ti0J_-1mSf",
        "BH5M3O943ZgG",
        "n6KMy45F4G6P",
        "nSctFoKg4fXX"
      ],
      "authorship_tag": "ABX9TyPOPDQVa3QgEXqdQDvBjF8h"
    },
    "kernelspec": {
      "name": "python3",
      "display_name": "Python 3"
    }
  },
  "cells": [
    {
      "cell_type": "markdown",
      "metadata": {
        "id": "CHnY-osf8Je6",
        "colab_type": "text"
      },
      "source": [
        "## **Using ARIMA Models for Time Series Forecasting on Wind Speed and Direction**"
      ]
    },
    {
      "cell_type": "markdown",
      "metadata": {
        "id": "P8ti0J_-1mSf",
        "colab_type": "text"
      },
      "source": [
        "# **Data Loading and Preprocessing**"
      ]
    },
    {
      "cell_type": "code",
      "metadata": {
        "id": "Ndg6dlqO0XpS",
        "colab_type": "code",
        "colab": {
          "base_uri": "https://localhost:8080/",
          "height": 35
        },
        "outputId": "e4fac0a9-fdde-47b7-c471-be885a094052"
      },
      "source": [
        "from google.colab import drive \n",
        "drive.mount('/content/drive')"
      ],
      "execution_count": null,
      "outputs": [
        {
          "output_type": "stream",
          "text": [
            "Drive already mounted at /content/drive; to attempt to forcibly remount, call drive.mount(\"/content/drive\", force_remount=True).\n"
          ],
          "name": "stdout"
        }
      ]
    },
    {
      "cell_type": "code",
      "metadata": {
        "id": "c0rWU6uB0cqY",
        "colab_type": "code",
        "colab": {}
      },
      "source": [
        "import numpy as np \n",
        "import pandas as pd\n",
        "import matplotlib.pyplot as plt \n",
        "import seaborn as sns \n",
        "import math\n",
        " \n",
        "from sklearn.linear_model import LinearRegression\n",
        "from sklearn.linear_model import LogisticRegression\n",
        "from sklearn.neural_network import MLPRegressor\n",
        "from sklearn.metrics import mean_squared_error\n",
        "\n",
        "from statsmodels.tsa.arima_model import ARIMA\n",
        "from statsmodels.tsa.seasonal import seasonal_decompose\n",
        "from statsmodels.graphics.tsaplots import plot_acf\n",
        "from statsmodels.graphics.tsaplots import plot_pacf\n",
        "from statsmodels.tsa.stattools import adfuller"
      ],
      "execution_count": null,
      "outputs": []
    },
    {
      "cell_type": "code",
      "metadata": {
        "id": "5hjjUv9z0hcK",
        "colab_type": "code",
        "colab": {
          "base_uri": "https://localhost:8080/",
          "height": 424
        },
        "outputId": "daa12a1f-84f9-4fa3-de77-01a2dd868fec"
      },
      "source": [
        "data=pd.read_csv('/content/drive/My Drive/Datasets /Wind Turbine Dataset.csv')\n",
        "df = data.rename(columns={\"LV ActivePower (kW)\":\"Active Power\", \"Wind Speed (m/s)\":\"Wind Speed\", \"Theoretical_Power_Curve (KWh)\":\"Theoritical Power\", \"Wind Direction (°)\":\"Direction\"})\n",
        "df"
      ],
      "execution_count": null,
      "outputs": [
        {
          "output_type": "execute_result",
          "data": {
            "text/html": [
              "<div>\n",
              "<style scoped>\n",
              "    .dataframe tbody tr th:only-of-type {\n",
              "        vertical-align: middle;\n",
              "    }\n",
              "\n",
              "    .dataframe tbody tr th {\n",
              "        vertical-align: top;\n",
              "    }\n",
              "\n",
              "    .dataframe thead th {\n",
              "        text-align: right;\n",
              "    }\n",
              "</style>\n",
              "<table border=\"1\" class=\"dataframe\">\n",
              "  <thead>\n",
              "    <tr style=\"text-align: right;\">\n",
              "      <th></th>\n",
              "      <th>Date/Time</th>\n",
              "      <th>Active Power</th>\n",
              "      <th>Wind Speed</th>\n",
              "      <th>Theoritical Power</th>\n",
              "      <th>Direction</th>\n",
              "    </tr>\n",
              "  </thead>\n",
              "  <tbody>\n",
              "    <tr>\n",
              "      <th>0</th>\n",
              "      <td>01 01 2018 00:00</td>\n",
              "      <td>380.047791</td>\n",
              "      <td>5.311336</td>\n",
              "      <td>416.328908</td>\n",
              "      <td>259.994904</td>\n",
              "    </tr>\n",
              "    <tr>\n",
              "      <th>1</th>\n",
              "      <td>01 01 2018 00:10</td>\n",
              "      <td>453.769196</td>\n",
              "      <td>5.672167</td>\n",
              "      <td>519.917511</td>\n",
              "      <td>268.641113</td>\n",
              "    </tr>\n",
              "    <tr>\n",
              "      <th>2</th>\n",
              "      <td>01 01 2018 00:20</td>\n",
              "      <td>306.376587</td>\n",
              "      <td>5.216037</td>\n",
              "      <td>390.900016</td>\n",
              "      <td>272.564789</td>\n",
              "    </tr>\n",
              "    <tr>\n",
              "      <th>3</th>\n",
              "      <td>01 01 2018 00:30</td>\n",
              "      <td>419.645905</td>\n",
              "      <td>5.659674</td>\n",
              "      <td>516.127569</td>\n",
              "      <td>271.258087</td>\n",
              "    </tr>\n",
              "    <tr>\n",
              "      <th>4</th>\n",
              "      <td>01 01 2018 00:40</td>\n",
              "      <td>380.650696</td>\n",
              "      <td>5.577941</td>\n",
              "      <td>491.702972</td>\n",
              "      <td>265.674286</td>\n",
              "    </tr>\n",
              "    <tr>\n",
              "      <th>...</th>\n",
              "      <td>...</td>\n",
              "      <td>...</td>\n",
              "      <td>...</td>\n",
              "      <td>...</td>\n",
              "      <td>...</td>\n",
              "    </tr>\n",
              "    <tr>\n",
              "      <th>50525</th>\n",
              "      <td>31 12 2018 23:10</td>\n",
              "      <td>2963.980957</td>\n",
              "      <td>11.404030</td>\n",
              "      <td>3397.190793</td>\n",
              "      <td>80.502724</td>\n",
              "    </tr>\n",
              "    <tr>\n",
              "      <th>50526</th>\n",
              "      <td>31 12 2018 23:20</td>\n",
              "      <td>1684.353027</td>\n",
              "      <td>7.332648</td>\n",
              "      <td>1173.055771</td>\n",
              "      <td>84.062599</td>\n",
              "    </tr>\n",
              "    <tr>\n",
              "      <th>50527</th>\n",
              "      <td>31 12 2018 23:30</td>\n",
              "      <td>2201.106934</td>\n",
              "      <td>8.435358</td>\n",
              "      <td>1788.284755</td>\n",
              "      <td>84.742500</td>\n",
              "    </tr>\n",
              "    <tr>\n",
              "      <th>50528</th>\n",
              "      <td>31 12 2018 23:40</td>\n",
              "      <td>2515.694092</td>\n",
              "      <td>9.421366</td>\n",
              "      <td>2418.382503</td>\n",
              "      <td>84.297913</td>\n",
              "    </tr>\n",
              "    <tr>\n",
              "      <th>50529</th>\n",
              "      <td>31 12 2018 23:50</td>\n",
              "      <td>2820.466064</td>\n",
              "      <td>9.979332</td>\n",
              "      <td>2779.184096</td>\n",
              "      <td>82.274620</td>\n",
              "    </tr>\n",
              "  </tbody>\n",
              "</table>\n",
              "<p>50530 rows × 5 columns</p>\n",
              "</div>"
            ],
            "text/plain": [
              "              Date/Time  Active Power  ...  Theoritical Power   Direction\n",
              "0      01 01 2018 00:00    380.047791  ...         416.328908  259.994904\n",
              "1      01 01 2018 00:10    453.769196  ...         519.917511  268.641113\n",
              "2      01 01 2018 00:20    306.376587  ...         390.900016  272.564789\n",
              "3      01 01 2018 00:30    419.645905  ...         516.127569  271.258087\n",
              "4      01 01 2018 00:40    380.650696  ...         491.702972  265.674286\n",
              "...                 ...           ...  ...                ...         ...\n",
              "50525  31 12 2018 23:10   2963.980957  ...        3397.190793   80.502724\n",
              "50526  31 12 2018 23:20   1684.353027  ...        1173.055771   84.062599\n",
              "50527  31 12 2018 23:30   2201.106934  ...        1788.284755   84.742500\n",
              "50528  31 12 2018 23:40   2515.694092  ...        2418.382503   84.297913\n",
              "50529  31 12 2018 23:50   2820.466064  ...        2779.184096   82.274620\n",
              "\n",
              "[50530 rows x 5 columns]"
            ]
          },
          "metadata": {
            "tags": []
          },
          "execution_count": 85
        }
      ]
    },
    {
      "cell_type": "code",
      "metadata": {
        "id": "Q-snGZRM0l7A",
        "colab_type": "code",
        "colab": {
          "base_uri": "https://localhost:8080/",
          "height": 615
        },
        "outputId": "407d9380-50b6-48f4-fad5-96e1cb00c9c4"
      },
      "source": [
        "df['Loss']= df['Theoritical Power']-df['Active Power']\n",
        "df['Loss Percent']= (df['Loss']/df['Theoritical Power']) * 100\n",
        "df['Date/Time'] = pd.to_datetime(df['Date/Time'],format='%d %m %Y %H:%M')\n",
        "df['Date'] = df['Date/Time'].dt.date\n",
        "df['Time'] = df['Date/Time'].dt.time\n",
        "\n",
        "df['Sin Component'] = df['Wind Speed']*np.sin(math.pi*df['Direction']/180)\n",
        "df['Cos Component'] = df['Wind Speed']*np.cos(math.pi*df['Direction']/180)\n",
        "df"
      ],
      "execution_count": null,
      "outputs": [
        {
          "output_type": "execute_result",
          "data": {
            "text/html": [
              "<div>\n",
              "<style scoped>\n",
              "    .dataframe tbody tr th:only-of-type {\n",
              "        vertical-align: middle;\n",
              "    }\n",
              "\n",
              "    .dataframe tbody tr th {\n",
              "        vertical-align: top;\n",
              "    }\n",
              "\n",
              "    .dataframe thead th {\n",
              "        text-align: right;\n",
              "    }\n",
              "</style>\n",
              "<table border=\"1\" class=\"dataframe\">\n",
              "  <thead>\n",
              "    <tr style=\"text-align: right;\">\n",
              "      <th></th>\n",
              "      <th>Date/Time</th>\n",
              "      <th>Active Power</th>\n",
              "      <th>Wind Speed</th>\n",
              "      <th>Theoritical Power</th>\n",
              "      <th>Direction</th>\n",
              "      <th>Loss</th>\n",
              "      <th>Loss Percent</th>\n",
              "      <th>Date</th>\n",
              "      <th>Time</th>\n",
              "      <th>Sin Component</th>\n",
              "      <th>Cos Component</th>\n",
              "    </tr>\n",
              "  </thead>\n",
              "  <tbody>\n",
              "    <tr>\n",
              "      <th>0</th>\n",
              "      <td>2018-01-01 00:00:00</td>\n",
              "      <td>380.047791</td>\n",
              "      <td>5.311336</td>\n",
              "      <td>416.328908</td>\n",
              "      <td>259.994904</td>\n",
              "      <td>36.281117</td>\n",
              "      <td>8.714532</td>\n",
              "      <td>2018-01-01</td>\n",
              "      <td>00:00:00</td>\n",
              "      <td>-5.230563</td>\n",
              "      <td>-0.922769</td>\n",
              "    </tr>\n",
              "    <tr>\n",
              "      <th>1</th>\n",
              "      <td>2018-01-01 00:10:00</td>\n",
              "      <td>453.769196</td>\n",
              "      <td>5.672167</td>\n",
              "      <td>519.917511</td>\n",
              "      <td>268.641113</td>\n",
              "      <td>66.148316</td>\n",
              "      <td>12.722848</td>\n",
              "      <td>2018-01-01</td>\n",
              "      <td>00:10:00</td>\n",
              "      <td>-5.670572</td>\n",
              "      <td>-0.134514</td>\n",
              "    </tr>\n",
              "    <tr>\n",
              "      <th>2</th>\n",
              "      <td>2018-01-01 00:20:00</td>\n",
              "      <td>306.376587</td>\n",
              "      <td>5.216037</td>\n",
              "      <td>390.900016</td>\n",
              "      <td>272.564789</td>\n",
              "      <td>84.523429</td>\n",
              "      <td>21.622774</td>\n",
              "      <td>2018-01-01</td>\n",
              "      <td>00:20:00</td>\n",
              "      <td>-5.210812</td>\n",
              "      <td>0.233413</td>\n",
              "    </tr>\n",
              "    <tr>\n",
              "      <th>3</th>\n",
              "      <td>2018-01-01 00:30:00</td>\n",
              "      <td>419.645905</td>\n",
              "      <td>5.659674</td>\n",
              "      <td>516.127569</td>\n",
              "      <td>271.258087</td>\n",
              "      <td>96.481664</td>\n",
              "      <td>18.693375</td>\n",
              "      <td>2018-01-01</td>\n",
              "      <td>00:30:00</td>\n",
              "      <td>-5.658310</td>\n",
              "      <td>0.124264</td>\n",
              "    </tr>\n",
              "    <tr>\n",
              "      <th>4</th>\n",
              "      <td>2018-01-01 00:40:00</td>\n",
              "      <td>380.650696</td>\n",
              "      <td>5.577941</td>\n",
              "      <td>491.702972</td>\n",
              "      <td>265.674286</td>\n",
              "      <td>111.052276</td>\n",
              "      <td>22.585236</td>\n",
              "      <td>2018-01-01</td>\n",
              "      <td>00:40:00</td>\n",
              "      <td>-5.562052</td>\n",
              "      <td>-0.420723</td>\n",
              "    </tr>\n",
              "    <tr>\n",
              "      <th>...</th>\n",
              "      <td>...</td>\n",
              "      <td>...</td>\n",
              "      <td>...</td>\n",
              "      <td>...</td>\n",
              "      <td>...</td>\n",
              "      <td>...</td>\n",
              "      <td>...</td>\n",
              "      <td>...</td>\n",
              "      <td>...</td>\n",
              "      <td>...</td>\n",
              "      <td>...</td>\n",
              "    </tr>\n",
              "    <tr>\n",
              "      <th>50525</th>\n",
              "      <td>2018-12-31 23:10:00</td>\n",
              "      <td>2963.980957</td>\n",
              "      <td>11.404030</td>\n",
              "      <td>3397.190793</td>\n",
              "      <td>80.502724</td>\n",
              "      <td>433.209835</td>\n",
              "      <td>12.752002</td>\n",
              "      <td>2018-12-31</td>\n",
              "      <td>23:10:00</td>\n",
              "      <td>11.247720</td>\n",
              "      <td>1.881673</td>\n",
              "    </tr>\n",
              "    <tr>\n",
              "      <th>50526</th>\n",
              "      <td>2018-12-31 23:20:00</td>\n",
              "      <td>1684.353027</td>\n",
              "      <td>7.332648</td>\n",
              "      <td>1173.055771</td>\n",
              "      <td>84.062599</td>\n",
              "      <td>-511.297256</td>\n",
              "      <td>-43.586782</td>\n",
              "      <td>2018-12-31</td>\n",
              "      <td>23:20:00</td>\n",
              "      <td>7.293312</td>\n",
              "      <td>0.758502</td>\n",
              "    </tr>\n",
              "    <tr>\n",
              "      <th>50527</th>\n",
              "      <td>2018-12-31 23:30:00</td>\n",
              "      <td>2201.106934</td>\n",
              "      <td>8.435358</td>\n",
              "      <td>1788.284755</td>\n",
              "      <td>84.742500</td>\n",
              "      <td>-412.822178</td>\n",
              "      <td>-23.084812</td>\n",
              "      <td>2018-12-31</td>\n",
              "      <td>23:30:00</td>\n",
              "      <td>8.399870</td>\n",
              "      <td>0.772948</td>\n",
              "    </tr>\n",
              "    <tr>\n",
              "      <th>50528</th>\n",
              "      <td>2018-12-31 23:40:00</td>\n",
              "      <td>2515.694092</td>\n",
              "      <td>9.421366</td>\n",
              "      <td>2418.382503</td>\n",
              "      <td>84.297913</td>\n",
              "      <td>-97.311588</td>\n",
              "      <td>-4.023829</td>\n",
              "      <td>2018-12-31</td>\n",
              "      <td>23:40:00</td>\n",
              "      <td>9.374748</td>\n",
              "      <td>0.936069</td>\n",
              "    </tr>\n",
              "    <tr>\n",
              "      <th>50529</th>\n",
              "      <td>2018-12-31 23:50:00</td>\n",
              "      <td>2820.466064</td>\n",
              "      <td>9.979332</td>\n",
              "      <td>2779.184096</td>\n",
              "      <td>82.274620</td>\n",
              "      <td>-41.281968</td>\n",
              "      <td>-1.485399</td>\n",
              "      <td>2018-12-31</td>\n",
              "      <td>23:50:00</td>\n",
              "      <td>9.888757</td>\n",
              "      <td>1.341473</td>\n",
              "    </tr>\n",
              "  </tbody>\n",
              "</table>\n",
              "<p>50530 rows × 11 columns</p>\n",
              "</div>"
            ],
            "text/plain": [
              "                Date/Time  Active Power  ...  Sin Component  Cos Component\n",
              "0     2018-01-01 00:00:00    380.047791  ...      -5.230563      -0.922769\n",
              "1     2018-01-01 00:10:00    453.769196  ...      -5.670572      -0.134514\n",
              "2     2018-01-01 00:20:00    306.376587  ...      -5.210812       0.233413\n",
              "3     2018-01-01 00:30:00    419.645905  ...      -5.658310       0.124264\n",
              "4     2018-01-01 00:40:00    380.650696  ...      -5.562052      -0.420723\n",
              "...                   ...           ...  ...            ...            ...\n",
              "50525 2018-12-31 23:10:00   2963.980957  ...      11.247720       1.881673\n",
              "50526 2018-12-31 23:20:00   1684.353027  ...       7.293312       0.758502\n",
              "50527 2018-12-31 23:30:00   2201.106934  ...       8.399870       0.772948\n",
              "50528 2018-12-31 23:40:00   2515.694092  ...       9.374748       0.936069\n",
              "50529 2018-12-31 23:50:00   2820.466064  ...       9.888757       1.341473\n",
              "\n",
              "[50530 rows x 11 columns]"
            ]
          },
          "metadata": {
            "tags": []
          },
          "execution_count": 86
        }
      ]
    },
    {
      "cell_type": "markdown",
      "metadata": {
        "id": "BH5M3O943ZgG",
        "colab_type": "text"
      },
      "source": [
        "# **ARIMA Direct Model**"
      ]
    },
    {
      "cell_type": "code",
      "metadata": {
        "id": "wtTJBAlh3flb",
        "colab_type": "code",
        "colab": {}
      },
      "source": [
        "# 'dt':df['Date/Time'][:40000],\n",
        "arima_data = pd.DataFrame({'sc':df['Sin Component'][:40000]}) \n",
        "print(arima_data)\n",
        "print(arima_data.dtypes)"
      ],
      "execution_count": null,
      "outputs": []
    },
    {
      "cell_type": "code",
      "metadata": {
        "id": "J90qqCld3iML",
        "colab_type": "code",
        "colab": {}
      },
      "source": [
        "decomposed_data = seasonal_decompose(arima_data['sc'],freq=1008)   \n",
        "#frequency is choosen as 1008 as it is the time period of 24*7 hours \n",
        "\n",
        "decomposed_data.plot()\n",
        "plt.show()\n",
        "\n",
        "trend = decomposed_data.trend\n",
        "plt.plot(df.index[:40000],df['Sin Component'][:40000],color='orange')\n",
        "plt.plot(trend)\n",
        "plt.show()\n"
      ],
      "execution_count": null,
      "outputs": []
    },
    {
      "cell_type": "code",
      "metadata": {
        "id": "_H-RgTSe1YpN",
        "colab_type": "code",
        "colab": {
          "base_uri": "https://localhost:8080/",
          "height": 35
        },
        "outputId": "dfeef065-5c70-46e1-8724-b55933c6a552"
      },
      "source": [
        "test = adfuller(arima_data['sc'])\n",
        "print(test)"
      ],
      "execution_count": null,
      "outputs": [
        {
          "output_type": "stream",
          "text": [
            "(-11.733479575526479, 1.3245897260348231e-21, 7, 39992, {'1%': -3.43051352569973, '5%': -2.861612274602326, '10%': -2.566808469449866}, 88546.37600036437)\n"
          ],
          "name": "stdout"
        }
      ]
    },
    {
      "cell_type": "markdown",
      "metadata": {
        "id": "o17QcCMoUtS0",
        "colab_type": "text"
      },
      "source": [
        "The adfuller test helps us predict the stationarity of data. Our data is stationery according to this test "
      ]
    },
    {
      "cell_type": "code",
      "metadata": {
        "id": "98GPNXs_3xwD",
        "colab_type": "code",
        "colab": {}
      },
      "source": [
        "model = ARIMA(arima_data['sc'],order=(5,0,1))\n",
        "result = model.fit()\n",
        "result.summary()"
      ],
      "execution_count": null,
      "outputs": []
    },
    {
      "cell_type": "code",
      "metadata": {
        "id": "y4wOlncZhJcx",
        "colab_type": "code",
        "colab": {
          "base_uri": "https://localhost:8080/",
          "height": 284
        },
        "outputId": "f36364ff-b5a4-49b1-b095-e29e5aae3537"
      },
      "source": [
        "# prediction = result.predict(40000,50529,df['Sin Component'])\n",
        "prediction = result.forecast(steps=72)[0]\n",
        "plt.plot(prediction)\n",
        "\n",
        "plt.plot(df.index[:72],df['Sin Component'][40000:40072],color='orange')"
      ],
      "execution_count": null,
      "outputs": [
        {
          "output_type": "execute_result",
          "data": {
            "text/plain": [
              "[<matplotlib.lines.Line2D at 0x7f9e002f12b0>]"
            ]
          },
          "metadata": {
            "tags": []
          },
          "execution_count": 64
        },
        {
          "output_type": "display_data",
          "data": {
            "image/png": "[encoded data removed]",
            "text/plain": [
              "<Figure size 432x288 with 1 Axes>"
            ]
          },
          "metadata": {
            "tags": [],
            "needs_background": "light"
          }
        }
      ]
    },
    {
      "cell_type": "markdown",
      "metadata": {
        "id": "HK_0bNmhUNOD",
        "colab_type": "text"
      },
      "source": [
        "As we can see in the above implementation that due to the noise the model isn't able to predict anything significant. So we try to smoothen out data by taking window size as 6 in rolling means. "
      ]
    },
    {
      "cell_type": "markdown",
      "metadata": {
        "id": "n6KMy45F4G6P",
        "colab_type": "text"
      },
      "source": [
        "# **ARIMA on Moving Averages**"
      ]
    },
    {
      "cell_type": "code",
      "metadata": {
        "id": "raEyzkgoduat",
        "colab_type": "code",
        "colab": {
          "base_uri": "https://localhost:8080/",
          "height": 541
        },
        "outputId": "68d428c2-1476-492e-fae2-84ac3c23d4fc"
      },
      "source": [
        "hourly_arima_data=arima_data.rolling(window=6).mean()\n",
        "print(hourly_arima_data)\n",
        "plt.plot(hourly_arima_data)"
      ],
      "execution_count": null,
      "outputs": [
        {
          "output_type": "stream",
          "text": [
            "             sc\n",
            "0           NaN\n",
            "1           NaN\n",
            "2           NaN\n",
            "3           NaN\n",
            "4           NaN\n",
            "...         ...\n",
            "39995  3.752377\n",
            "39996  3.860061\n",
            "39997  3.908497\n",
            "39998  3.925785\n",
            "39999  3.831107\n",
            "\n",
            "[40000 rows x 1 columns]\n"
          ],
          "name": "stdout"
        },
        {
          "output_type": "execute_result",
          "data": {
            "text/plain": [
              "[<matplotlib.lines.Line2D at 0x7f990fb6ff28>]"
            ]
          },
          "metadata": {
            "tags": []
          },
          "execution_count": 8
        },
        {
          "output_type": "display_data",
          "data": {
            "image/png": "[encoded data removed]",
            "text/plain": [
              "<Figure size 432x288 with 1 Axes>"
            ]
          },
          "metadata": {
            "tags": [],
            "needs_background": "light"
          }
        }
      ]
    },
    {
      "cell_type": "code",
      "metadata": {
        "id": "hYbguA_6WD4t",
        "colab_type": "code",
        "colab": {
          "base_uri": "https://localhost:8080/",
          "height": 274
        },
        "outputId": "8c50dbf0-9b35-47ba-f517-4ec0f93b40a2"
      },
      "source": [
        "clean = hourly_arima_data.dropna()\n",
        "print(clean)"
      ],
      "execution_count": null,
      "outputs": [
        {
          "output_type": "stream",
          "text": [
            "             sc\n",
            "5     -5.485215\n",
            "6     -5.576793\n",
            "7     -5.496551\n",
            "8     -5.520436\n",
            "9     -5.480152\n",
            "...         ...\n",
            "39995  3.752377\n",
            "39996  3.860061\n",
            "39997  3.908497\n",
            "39998  3.925785\n",
            "39999  3.831107\n",
            "\n",
            "[39995 rows x 1 columns]\n"
          ],
          "name": "stdout"
        }
      ]
    },
    {
      "cell_type": "code",
      "metadata": {
        "id": "VOEl5ELAVwMN",
        "colab_type": "code",
        "colab": {
          "base_uri": "https://localhost:8080/",
          "height": 545
        },
        "outputId": "ae226c49-7318-4bd0-894b-7b017104199b"
      },
      "source": [
        "decomposed_data = seasonal_decompose(clean['sc'],freq=1008)   \n",
        "#frequency is choosen as 1008 as it is the time period of 24*7 hours \n",
        "\n",
        "decomposed_data.plot()\n",
        "plt.show()\n",
        "\n",
        "trend = decomposed_data.trend\n",
        "plt.plot(df.index[:39995],clean['sc'][:40000],color='orange')\n",
        "plt.plot(trend)\n",
        "plt.show()"
      ],
      "execution_count": null,
      "outputs": [
        {
          "output_type": "display_data",
          "data": {
            "image/png": "[encoded data removed]",
            "text/plain": [
              "<Figure size 432x288 with 4 Axes>"
            ]
          },
          "metadata": {
            "tags": [],
            "needs_background": "light"
          }
        },
        {
          "output_type": "display_data",
          "data": {
            "image/png": "[encoded data removed]",
            "text/plain": [
              "<Figure size 432x288 with 1 Axes>"
            ]
          },
          "metadata": {
            "tags": [],
            "needs_background": "light"
          }
        }
      ]
    },
    {
      "cell_type": "code",
      "metadata": {
        "id": "qeFHZB1zXWfx",
        "colab_type": "code",
        "colab": {
          "base_uri": "https://localhost:8080/",
          "height": 55
        },
        "outputId": "5164d255-a56b-4b9c-e637-fb4444a7b348"
      },
      "source": [
        "test = adfuller(clean['sc'])\n",
        "print(test)"
      ],
      "execution_count": null,
      "outputs": [
        {
          "output_type": "stream",
          "text": [
            "(-9.08808737427931, 3.8907622118140035e-15, 54, 39940, {'1%': -3.4305137386161793, '5%': -2.861612368703909, '10%': -2.566808519537569}, -51147.086293315006)\n"
          ],
          "name": "stdout"
        }
      ]
    },
    {
      "cell_type": "code",
      "metadata": {
        "id": "I91rVMCjXh4L",
        "colab_type": "code",
        "colab": {
          "base_uri": "https://localhost:8080/",
          "height": 281
        },
        "outputId": "1a17ff2b-0214-4375-b345-176a3ade4375"
      },
      "source": [
        "plt.figure()\n",
        "plt.subplot(211)\n",
        "plot_acf(clean['sc'], ax=plt.gca())\n",
        "plt.subplot(212)\n",
        "plot_pacf(clean['sc'], ax=plt.gca())\n",
        "plt.show()"
      ],
      "execution_count": null,
      "outputs": [
        {
          "output_type": "display_data",
          "data": {
            "image/png": "[encoded data removed]",
            "text/plain": [
              "<Figure size 432x288 with 2 Axes>"
            ]
          },
          "metadata": {
            "tags": [],
            "needs_background": "light"
          }
        }
      ]
    },
    {
      "cell_type": "code",
      "metadata": {
        "id": "jytwroHOaBNb",
        "colab_type": "code",
        "colab": {
          "base_uri": "https://localhost:8080/",
          "height": 109
        },
        "outputId": "224eec5e-54de-43f8-e93d-99abd17aac09"
      },
      "source": [
        "model = ARIMA(clean['sc'],order=(5,0,2))\n",
        "result = model.fit()\n",
        "result"
      ],
      "execution_count": null,
      "outputs": [
        {
          "output_type": "stream",
          "text": [
            "/usr/local/lib/python3.6/dist-packages/statsmodels/tsa/base/tsa_model.py:215: ValueWarning:\n",
            "\n",
            "An unsupported index was provided and will be ignored when e.g. forecasting.\n",
            "\n"
          ],
          "name": "stderr"
        },
        {
          "output_type": "execute_result",
          "data": {
            "text/plain": [
              "<statsmodels.tsa.arima_model.ARMAResultsWrapper at 0x7f9e016926d8>"
            ]
          },
          "metadata": {
            "tags": []
          },
          "execution_count": 38
        }
      ]
    },
    {
      "cell_type": "code",
      "metadata": {
        "id": "-Bmk4zuRYWLw",
        "colab_type": "code",
        "colab": {
          "base_uri": "https://localhost:8080/",
          "height": 284
        },
        "outputId": "6bb984db-6662-47a3-f575-997a959a3b0e"
      },
      "source": [
        "# prediction = result.predict(40000,40438)\n",
        "# prediction = pd.DataFrame({'dt':1,'sc':2})\n",
        "# print(prediction)\n",
        "prediction = result.forecast(steps=72)[0]\n",
        "plt.plot(prediction)\n",
        "plt.plot(df.index[:72],df['Sin Component'][40000:40072],color='orange')"
      ],
      "execution_count": null,
      "outputs": [
        {
          "output_type": "execute_result",
          "data": {
            "text/plain": [
              "[<matplotlib.lines.Line2D at 0x7f9e007164e0>]"
            ]
          },
          "metadata": {
            "tags": []
          },
          "execution_count": 53
        },
        {
          "output_type": "display_data",
          "data": {
            "image/png": "[encoded data removed]",
            "text/plain": [
              "<Figure size 432x288 with 1 Axes>"
            ]
          },
          "metadata": {
            "tags": [],
            "needs_background": "light"
          }
        }
      ]
    },
    {
      "cell_type": "markdown",
      "metadata": {
        "id": "hCbX0LHviosk",
        "colab_type": "text"
      },
      "source": [
        "As we can see even moving averages is not providing much good results. So we try by taking mean of the data. By mean we mean taking mean of the 1 hour period. "
      ]
    },
    {
      "cell_type": "markdown",
      "metadata": {
        "id": "nSctFoKg4fXX",
        "colab_type": "text"
      },
      "source": [
        "# **ARIMA on Average and Daily Moving Average**"
      ]
    },
    {
      "cell_type": "code",
      "metadata": {
        "id": "dw70N7dK4pDg",
        "colab_type": "code",
        "colab": {}
      },
      "source": [
        "avg_data = []\n",
        "for i in range(6667):\n",
        "  avg_data.append(arima_data['sc'][i*6:i*6+6].mean())\n",
        "plt.plot(avg_data)"
      ],
      "execution_count": null,
      "outputs": []
    },
    {
      "cell_type": "code",
      "metadata": {
        "id": "RCgByPNplfik",
        "colab_type": "code",
        "colab": {}
      },
      "source": [
        "final = pd.DataFrame(avg_data,columns=['sc_avg'])\n",
        "ma_avg_data=final.rolling(window=24).mean()\n",
        "\n",
        "clean = ma_avg_data.dropna()\n",
        "print(clean)\n",
        "\n",
        "plt.plot(clean)"
      ],
      "execution_count": null,
      "outputs": []
    },
    {
      "cell_type": "code",
      "metadata": {
        "id": "bGQ4ij4D5A9V",
        "colab_type": "code",
        "colab": {}
      },
      "source": [
        "test = adfuller(clean['sc_avg'])\n",
        "print(test)"
      ],
      "execution_count": null,
      "outputs": []
    },
    {
      "cell_type": "code",
      "metadata": {
        "id": "HfgeAhtM5CjA",
        "colab_type": "code",
        "colab": {}
      },
      "source": [
        "plt.figure()\n",
        "plt.subplot(211)\n",
        "plot_acf(clean['sc_avg'], ax=plt.gca())\n",
        "plt.subplot(212)\n",
        "plot_pacf(clean['sc_avg'], ax=plt.gca())\n",
        "plt.show()"
      ],
      "execution_count": null,
      "outputs": []
    },
    {
      "cell_type": "code",
      "metadata": {
        "id": "GB1ir3ci5E3b",
        "colab_type": "code",
        "colab": {}
      },
      "source": [
        "model = ARIMA(clean['sc_avg'],order=(1,0,11))\n",
        "result = model.fit()\n",
        "result"
      ],
      "execution_count": null,
      "outputs": []
    },
    {
      "cell_type": "code",
      "metadata": {
        "id": "3FJtHORJ5JFA",
        "colab_type": "code",
        "colab": {}
      },
      "source": [
        "prediction = result.forecast(steps=72)[2]\n",
        "plt.plot(prediction)\n",
        "\n",
        "# plt.plot(df.index[:72],clean['sc_avg'][],color='orange')"
      ],
      "execution_count": null,
      "outputs": []
    },
    {
      "cell_type": "code",
      "metadata": {
        "id": "R7aT8eJOzp4x",
        "colab_type": "code",
        "colab": {
          "base_uri": "https://localhost:8080/",
          "height": 424
        },
        "outputId": "cd17976b-b2c8-4881-c83a-a21ca36727c9"
      },
      "source": [
        "from statsmodels.tsa.holtwinters import ExponentialSmoothing\n",
        "\n",
        "data = pd.DataFrame({'cc' : df['Cos Component'][:50000]})\n",
        "data"
      ],
      "execution_count": null,
      "outputs": [
        {
          "output_type": "execute_result",
          "data": {
            "text/html": [
              "<div>\n",
              "<style scoped>\n",
              "    .dataframe tbody tr th:only-of-type {\n",
              "        vertical-align: middle;\n",
              "    }\n",
              "\n",
              "    .dataframe tbody tr th {\n",
              "        vertical-align: top;\n",
              "    }\n",
              "\n",
              "    .dataframe thead th {\n",
              "        text-align: right;\n",
              "    }\n",
              "</style>\n",
              "<table border=\"1\" class=\"dataframe\">\n",
              "  <thead>\n",
              "    <tr style=\"text-align: right;\">\n",
              "      <th></th>\n",
              "      <th>cc</th>\n",
              "    </tr>\n",
              "  </thead>\n",
              "  <tbody>\n",
              "    <tr>\n",
              "      <th>0</th>\n",
              "      <td>-0.922769</td>\n",
              "    </tr>\n",
              "    <tr>\n",
              "      <th>1</th>\n",
              "      <td>-0.134514</td>\n",
              "    </tr>\n",
              "    <tr>\n",
              "      <th>2</th>\n",
              "      <td>0.233413</td>\n",
              "    </tr>\n",
              "    <tr>\n",
              "      <th>3</th>\n",
              "      <td>0.124264</td>\n",
              "    </tr>\n",
              "    <tr>\n",
              "      <th>4</th>\n",
              "      <td>-0.420723</td>\n",
              "    </tr>\n",
              "    <tr>\n",
              "      <th>...</th>\n",
              "      <td>...</td>\n",
              "    </tr>\n",
              "    <tr>\n",
              "      <th>49995</th>\n",
              "      <td>-0.049991</td>\n",
              "    </tr>\n",
              "    <tr>\n",
              "      <th>49996</th>\n",
              "      <td>-0.283428</td>\n",
              "    </tr>\n",
              "    <tr>\n",
              "      <th>49997</th>\n",
              "      <td>-0.316795</td>\n",
              "    </tr>\n",
              "    <tr>\n",
              "      <th>49998</th>\n",
              "      <td>-0.521740</td>\n",
              "    </tr>\n",
              "    <tr>\n",
              "      <th>49999</th>\n",
              "      <td>-0.619170</td>\n",
              "    </tr>\n",
              "  </tbody>\n",
              "</table>\n",
              "<p>50000 rows × 1 columns</p>\n",
              "</div>"
            ],
            "text/plain": [
              "             cc\n",
              "0     -0.922769\n",
              "1     -0.134514\n",
              "2      0.233413\n",
              "3      0.124264\n",
              "4     -0.420723\n",
              "...         ...\n",
              "49995 -0.049991\n",
              "49996 -0.283428\n",
              "49997 -0.316795\n",
              "49998 -0.521740\n",
              "49999 -0.619170\n",
              "\n",
              "[50000 rows x 1 columns]"
            ]
          },
          "metadata": {
            "tags": []
          },
          "execution_count": 145
        }
      ]
    },
    {
      "cell_type": "code",
      "metadata": {
        "id": "5WA_eJ3cz6jJ",
        "colab_type": "code",
        "colab": {
          "base_uri": "https://localhost:8080/",
          "height": 274
        },
        "outputId": "ced3d0bc-eb0e-49f6-b0b9-c136bf461a70"
      },
      "source": [
        "model = ExponentialSmoothing(data, seasonal='additive',seasonal_periods=432)\n",
        "model_fit = model.fit()\n",
        "\n",
        "yhat = model_fit.forecast(steps=432)\n",
        "yhat"
      ],
      "execution_count": null,
      "outputs": [
        {
          "output_type": "stream",
          "text": [
            "/usr/local/lib/python3.6/dist-packages/statsmodels/tsa/holtwinters.py:712: ConvergenceWarning: Optimization failed to converge. Check mle_retvals.\n",
            "  ConvergenceWarning)\n"
          ],
          "name": "stderr"
        },
        {
          "output_type": "execute_result",
          "data": {
            "text/plain": [
              "50000   -0.848193\n",
              "50001   -1.248795\n",
              "50002   -1.366698\n",
              "50003   -1.373055\n",
              "50004   -0.935991\n",
              "           ...   \n",
              "50427   -0.705265\n",
              "50428   -1.007485\n",
              "50429   -0.667111\n",
              "50430   -0.761706\n",
              "50431   -0.590939\n",
              "Length: 432, dtype: float64"
            ]
          },
          "metadata": {
            "tags": []
          },
          "execution_count": 146
        }
      ]
    },
    {
      "cell_type": "code",
      "metadata": {
        "id": "5tGfv5oM0raU",
        "colab_type": "code",
        "colab": {
          "base_uri": "https://localhost:8080/",
          "height": 283
        },
        "outputId": "7207ec3f-2477-438a-f1aa-ba9ef9557a8f"
      },
      "source": [
        "plt.plot(yhat)\n",
        "plt.plot(df.index[50000:50432],df['Cos Component'][50000:50432],color='orange')"
      ],
      "execution_count": null,
      "outputs": [
        {
          "output_type": "execute_result",
          "data": {
            "text/plain": [
              "[<matplotlib.lines.Line2D at 0x7f88465d6518>]"
            ]
          },
          "metadata": {
            "tags": []
          },
          "execution_count": 148
        },
        {
          "output_type": "display_data",
          "data": {
            "image/png": "[encoded data removed]",
            "text/plain": [
              "<Figure size 432x288 with 1 Axes>"
            ]
          },
          "metadata": {
            "tags": [],
            "needs_background": "light"
          }
        }
      ]
    },
    {
      "cell_type": "code",
      "metadata": {
        "id": "kYlU3A7jIE0f",
        "colab_type": "code",
        "colab": {
          "base_uri": "https://localhost:8080/",
          "height": 459
        },
        "outputId": "a568fa84-0dfc-4c3e-bf33-17549dc38e9c"
      },
      "source": [
        "!pip install gluonts\n",
        "!pip install mxnet"
      ],
      "execution_count": null,
      "outputs": [
        {
          "output_type": "stream",
          "text": [
            "Requirement already satisfied: gluonts in /usr/local/lib/python3.6/dist-packages (0.5.0)\n",
            "Requirement already satisfied: tqdm~=4.23 in /usr/local/lib/python3.6/dist-packages (from gluonts) (4.41.1)\n",
            "Requirement already satisfied: holidays<0.10,>=0.9 in /usr/local/lib/python3.6/dist-packages (from gluonts) (0.9.12)\n",
            "Requirement already satisfied: matplotlib~=3.0 in /usr/local/lib/python3.6/dist-packages (from gluonts) (3.2.1)\n",
            "Requirement already satisfied: pandas~=1.0 in /usr/local/lib/python3.6/dist-packages (from gluonts) (1.0.4)\n",
            "Requirement already satisfied: numpy~=1.16 in /usr/local/lib/python3.6/dist-packages (from gluonts) (1.18.4)\n",
            "Requirement already satisfied: ujson~=1.35 in /usr/local/lib/python3.6/dist-packages (from gluonts) (1.35)\n",
            "Requirement already satisfied: pydantic~=1.1 in /usr/local/lib/python3.6/dist-packages (from gluonts) (1.5.1)\n",
            "Requirement already satisfied: six in /usr/local/lib/python3.6/dist-packages (from holidays<0.10,>=0.9->gluonts) (1.12.0)\n",
            "Requirement already satisfied: python-dateutil in /usr/local/lib/python3.6/dist-packages (from holidays<0.10,>=0.9->gluonts) (2.8.1)\n",
            "Requirement already satisfied: cycler>=0.10 in /usr/local/lib/python3.6/dist-packages (from matplotlib~=3.0->gluonts) (0.10.0)\n",
            "Requirement already satisfied: kiwisolver>=1.0.1 in /usr/local/lib/python3.6/dist-packages (from matplotlib~=3.0->gluonts) (1.2.0)\n",
            "Requirement already satisfied: pyparsing!=2.0.4,!=2.1.2,!=2.1.6,>=2.0.1 in /usr/local/lib/python3.6/dist-packages (from matplotlib~=3.0->gluonts) (2.4.7)\n",
            "Requirement already satisfied: pytz>=2017.2 in /usr/local/lib/python3.6/dist-packages (from pandas~=1.0->gluonts) (2018.9)\n",
            "Requirement already satisfied: dataclasses>=0.6; python_version < \"3.7\" in /usr/local/lib/python3.6/dist-packages (from pydantic~=1.1->gluonts) (0.7)\n",
            "Requirement already satisfied: mxnet in /usr/local/lib/python3.6/dist-packages (1.6.0)\n",
            "Requirement already satisfied: requests<3,>=2.20.0 in /usr/local/lib/python3.6/dist-packages (from mxnet) (2.23.0)\n",
            "Requirement already satisfied: graphviz<0.9.0,>=0.8.1 in /usr/local/lib/python3.6/dist-packages (from mxnet) (0.8.4)\n",
            "Requirement already satisfied: numpy<2.0.0,>1.16.0 in /usr/local/lib/python3.6/dist-packages (from mxnet) (1.18.4)\n",
            "Requirement already satisfied: certifi>=2017.4.17 in /usr/local/lib/python3.6/dist-packages (from requests<3,>=2.20.0->mxnet) (2020.4.5.1)\n",
            "Requirement already satisfied: idna<3,>=2.5 in /usr/local/lib/python3.6/dist-packages (from requests<3,>=2.20.0->mxnet) (2.9)\n",
            "Requirement already satisfied: chardet<4,>=3.0.2 in /usr/local/lib/python3.6/dist-packages (from requests<3,>=2.20.0->mxnet) (3.0.4)\n",
            "Requirement already satisfied: urllib3!=1.25.0,!=1.25.1,<1.26,>=1.21.1 in /usr/local/lib/python3.6/dist-packages (from requests<3,>=2.20.0->mxnet) (1.24.3)\n"
          ],
          "name": "stdout"
        }
      ]
    },
    {
      "cell_type": "code",
      "metadata": {
        "id": "-qmL9DNVIf1D",
        "colab_type": "code",
        "colab": {}
      },
      "source": [
        "import mxnet as mx\n",
        "from mxnet import gluon\n",
        "from gluonts.dataset import common\n",
        "from gluonts.model import deepar\n",
        "from gluonts.trainer import Trainer\n",
        "from gluonts.model.simple_feedforward import SimpleFeedForwardEstimator\n",
        "from gluonts.model.deepar import DeepAREstimator\n",
        "from gluonts.dataset.common import ListDataset"
      ],
      "execution_count": null,
      "outputs": []
    },
    {
      "cell_type": "code",
      "metadata": {
        "id": "COtCu5iTJi_W",
        "colab_type": "code",
        "colab": {}
      },
      "source": [
        "data = pd.DataFrame({'value':df['Sin Component'][:40000]}) \n",
        "data.index = df['Date/Time'][:40000]\n",
        "\n",
        "train_data = ListDataset([{'start':data.index[0], \"target\":data.value[:40000]}],freq = \"10min\")\n",
        "test_data = ListDataset([{'start':data.index[0], \"target\":data.value[:40432]}],freq = \"10min\")"
      ],
      "execution_count": null,
      "outputs": []
    },
    {
      "cell_type": "code",
      "metadata": {
        "id": "pzNPNoxkIXpO",
        "colab_type": "code",
        "colab": {
          "base_uri": "https://localhost:8080/",
          "height": 311
        },
        "outputId": "22b53ba9-5182-4ebc-fbe4-13425b237d8a"
      },
      "source": [
        "estimator = DeepAREstimator(freq = '10min', prediction_length=432, trainer=Trainer(epochs=15))\n",
        "predictor = estimator.train(training_data=train_data)"
      ],
      "execution_count": null,
      "outputs": [
        {
          "output_type": "stream",
          "text": [
            "\r  0%|          | 0/50 [00:00<?, ?it/s]"
          ],
          "name": "stderr"
        },
        {
          "output_type": "stream",
          "text": [
            "learning rate from ``lr_scheduler`` has been overwritten by ``learning_rate`` in optimizer.\n"
          ],
          "name": "stdout"
        },
        {
          "output_type": "stream",
          "text": [
            "100%|██████████| 50/50 [01:28<00:00,  1.77s/it, epoch=1/15, avg_epoch_loss=2.11]\n",
            "100%|██████████| 50/50 [01:12<00:00,  1.45s/it, epoch=2/15, avg_epoch_loss=1.44]\n",
            "100%|██████████| 50/50 [01:12<00:00,  1.46s/it, epoch=3/15, avg_epoch_loss=1.2] \n",
            "100%|██████████| 50/50 [01:13<00:00,  1.46s/it, epoch=4/15, avg_epoch_loss=1.1]\n",
            "100%|██████████| 50/50 [01:13<00:00,  1.47s/it, epoch=5/15, avg_epoch_loss=1.07]\n",
            "100%|██████████| 50/50 [01:13<00:00,  1.47s/it, epoch=6/15, avg_epoch_loss=1.01]\n",
            "100%|██████████| 50/50 [01:18<00:00,  1.56s/it, epoch=7/15, avg_epoch_loss=0.989]\n",
            "100%|██████████| 50/50 [01:14<00:00,  1.48s/it, epoch=8/15, avg_epoch_loss=0.977]\n",
            "100%|██████████| 50/50 [01:13<00:00,  1.46s/it, epoch=9/15, avg_epoch_loss=0.984]\n",
            "100%|██████████| 50/50 [01:11<00:00,  1.44s/it, epoch=10/15, avg_epoch_loss=0.972]\n",
            "100%|██████████| 50/50 [01:14<00:00,  1.49s/it, epoch=11/15, avg_epoch_loss=0.983]\n",
            "100%|██████████| 50/50 [01:15<00:00,  1.50s/it, epoch=12/15, avg_epoch_loss=0.967]\n",
            "100%|██████████| 50/50 [01:14<00:00,  1.49s/it, epoch=13/15, avg_epoch_loss=0.968]\n",
            "100%|██████████| 50/50 [01:13<00:00,  1.48s/it, epoch=14/15, avg_epoch_loss=0.961]\n",
            "100%|██████████| 50/50 [01:16<00:00,  1.52s/it, epoch=15/15, avg_epoch_loss=0.955]\n"
          ],
          "name": "stderr"
        }
      ]
    },
    {
      "cell_type": "code",
      "metadata": {
        "id": "3aHBfnMKejGz",
        "colab_type": "code",
        "colab": {
          "base_uri": "https://localhost:8080/",
          "height": 35
        },
        "outputId": "7a2d72dd-af5f-4d15-d998-a3b0171a4184"
      },
      "source": [
        "x = predictor.predict(test_data)\n",
        "type(x)"
      ],
      "execution_count": null,
      "outputs": [
        {
          "output_type": "execute_result",
          "data": {
            "text/plain": [
              "generator"
            ]
          },
          "metadata": {
            "tags": []
          },
          "execution_count": 109
        }
      ]
    },
    {
      "cell_type": "code",
      "metadata": {
        "id": "UYMavBQirbi_",
        "colab_type": "code",
        "colab": {}
      },
      "source": [
        "a = next(x)"
      ],
      "execution_count": null,
      "outputs": []
    },
    {
      "cell_type": "code",
      "metadata": {
        "id": "rVKEWh3Fy7wX",
        "colab_type": "code",
        "colab": {
          "base_uri": "https://localhost:8080/",
          "height": 283
        },
        "outputId": "74fd7af4-6229-4f72-ed92-0d6777d53926"
      },
      "source": [
        "forecast = a.mean\n",
        "\n",
        "plt.plot(forecast)\n",
        "plt.plot(df.index[:432],df['Sin Component'][40000:40432],color='orange')"
      ],
      "execution_count": null,
      "outputs": [
        {
          "output_type": "execute_result",
          "data": {
            "text/plain": [
              "[<matplotlib.lines.Line2D at 0x7fbb300018d0>]"
            ]
          },
          "metadata": {
            "tags": []
          },
          "execution_count": 111
        },
        {
          "output_type": "display_data",
          "data": {
            "image/png": "[encoded data removed]",
            "text/plain": [
              "<Figure size 432x288 with 1 Axes>"
            ]
          },
          "metadata": {
            "tags": [],
            "needs_background": "light"
          }
        }
      ]
    }
  ]
}